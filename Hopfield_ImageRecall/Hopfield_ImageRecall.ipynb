{
 "cells": [
  {
   "cell_type": "code",
   "execution_count": 5,
   "id": "53b16306-73f1-4b98-bde6-9ee9b3c88f24",
   "metadata": {},
   "outputs": [],
   "source": [
    "import numpy as np\n",
    "import matplotlib.pyplot as plt\n",
    "from PIL import Image"
   ]
  },
  {
   "cell_type": "markdown",
   "id": "82f1aba6-51ba-4692-9034-e7146054d6c3",
   "metadata": {},
   "source": [
    "## Main Components of a Hopfield Network\n",
    "\n",
    "1. Neurons: Each neuron has an active (+1) and inactive (-1) state, similar to up and down spin states in spin glass systems. The state vector $\\vec{s} = [s_1, s_2, ...]$ represents the configuration of all neurons in the network at a particular time. This has to be updated until the network reaches a stable state (equivalent to low Hamiltonian configuration in spin-glass systems)\n",
    "\n",
    "2. Weights: Tells us about the strength between neurons. These are learnt while training and constantly updated following the Hebbian learning rule (synaptic plasticity). Here, $w_{ij} = \\sum_{\\mu = 1}^{p} s_{i}^{\\mu} s_{j}^{\\mu}$ where $s_{i}^{\\mu}$ and $s_{i}^{\\mu}$ are elements of the vector that represents the stored pattern $\\mu$\n",
    "\n",
    "## Updating Neurons\n",
    "Neurons can be updated together (synchronously) or one by one (asynchronously) by $s_{i} = (\\text{sign}) \\sum_{j} w_{ij}s_{i}$"
   ]
  },
  {
   "cell_type": "code",
   "execution_count": 18,
   "id": "186701cb-faa6-453f-ab5b-d915f5a09bde",
   "metadata": {},
   "outputs": [],
   "source": [
    "class image_processing:\n",
    "    def __init__(self, a):\n",
    "        self.a = a\n",
    "        \n",
    "    def imgload(self, path, a):\n",
    "        img = Image.open(path)\n",
    "        img = img.resize((a, a)) # resizing image to have equal width and height\n",
    "        img = img.convert('1') # converting image to binary format (1) so that each pixel is either black (0) or white (255)\n",
    "        img = 2 * np.array(img, int) - 1 # converting the binary image to array of integers and then transforming the array into values of -1 or +1\n",
    "        return img.flatten() # converts 2D array to 1D\n",
    "        \n",
    "    def show(self, array):\n",
    "        a = int(np.sqrt(array.shape[0])) # square root of total number of integers (a x a) in int, shape returns dimensions of array\n",
    "        array = array.reshape((a, a)) # converting 1D back to 2D\n",
    "        plt.figure(figsize = (3, 3))\n",
    "        plt.imshow(array, cmap = 'gray') # image display\n",
    "        plt.axis('off') # removing axes\n",
    "        plt.show()\n",
    "\n",
    "    def noise(self, pixels, img):\n",
    "        for i in range(pixels):\n",
    "            if i > pixels/2 - 1:\n",
    "                img[i] = -1 # making second half of the pixels black (introducing noise)\n",
    "        return img"
   ]
  },
  {
   "cell_type": "code",
   "execution_count": 21,
   "id": "6f2d80d8-04c4-4520-af02-8915da6e863e",
   "metadata": {},
   "outputs": [],
   "source": [
    "class hopfield:\n",
    "    def __init__(self, n):\n",
    "        self.n = n # total no of neurons\n",
    "        self.weight = np.zeros((n, n)) # weight matrix\n",
    "\n",
    "    def weights(self, img):\n",
    "        # img here is a 1D array of +1s and -1s representing the image\n",
    "        self.weight = np.outer(img, img) # finding the outer product of the image vector with itself to generste the weight matrix\n",
    "        # outer product in linear algebra is like Cartesian product in sets -- all possible combinations of neural connections in the matrix\n",
    "        np.fill_diagonal(self.weight, 0) # diagonal of weight matrix represents self-connections that are not allowed, so we set the diagonal elements to 0\n",
    "\n",
    "    def recall(self, state):\n",
    "        # iterating through each neuron and updating its state\n",
    "        # applying the equation described in the updating neurons section where s_i is our variable sum_inp\n",
    "        # if sum_inp > 0, neuron is set to 1 (active), otherwise -1 (inactive)\n",
    "        new = state.copy() # creating a copy to retain the original vector\n",
    "        for i in range(self.n):\n",
    "            sum_inp = np.sum(self.weight[i, :] * new) # i-th row of the matrix and all the neurons (columns) involed * new state\n",
    "            if sum_inp > 0:\n",
    "                new[i] = 1\n",
    "            else:\n",
    "                new[i] = -1\n",
    "        return new"
   ]
  },
  {
   "cell_type": "code",
   "execution_count": 27,
   "id": "65dfce32-7e76-4747-bacf-bfa6946a97db",
   "metadata": {},
   "outputs": [
    {
     "name": "stdout",
     "output_type": "stream",
     "text": [
      "Original Image:\n"
     ]
    },
    {
     "data": {
      "image/png": "[encoded data removed]",
      "text/plain": [
       "<Figure size 300x300 with 1 Axes>"
      ]
     },
     "metadata": {},
     "output_type": "display_data"
    },
    {
     "name": "stdout",
     "output_type": "stream",
     "text": [
      "Noisy Image:\n"
     ]
    },
    {
     "data": {
      "image/png": "[encoded data removed]",
      "text/plain": [
       "<Figure size 300x300 with 1 Axes>"
      ]
     },
     "metadata": {},
     "output_type": "display_data"
    },
    {
     "name": "stdout",
     "output_type": "stream",
     "text": [
      "Recalled/Reconstructed Image:\n"
     ]
    },
    {
     "data": {
      "image/png": "[encoded data removed]",
      "text/plain": [
       "<Figure size 300x300 with 1 Axes>"
      ]
     },
     "metadata": {},
     "output_type": "display_data"
    }
   ],
   "source": [
    "# main stuff\n",
    "\n",
    "a = 76 # no of pixels on each side\n",
    "n = a * a # total neurons/pixels\n",
    "\n",
    "hopfield_net = hopfield(n)\n",
    "img_proc = image_processing(a)\n",
    "\n",
    "img = img_proc.imgload('hop_img.png', a)\n",
    "print('Original Image:')\n",
    "img_proc.show(img)\n",
    "\n",
    "hopfield_net.weights(img)\n",
    "\n",
    "state = np.random.choice([-1, 1], size = n) # generating random state (initial noisy version)\n",
    "print('Noisy Image:')\n",
    "img_proc.show(state)\n",
    "\n",
    "state_recall = hopfield_net.recall(state)\n",
    "print('Recalled/Reconstructed Image:')\n",
    "img_proc.show(state_recall)"
   ]
  }
 ],
 "metadata": {
  "kernelspec": {
   "display_name": "Python 3 (ipykernel)",
   "language": "python",
   "name": "python3"
  },
  "language_info": {
   "codemirror_mode": {
    "name": "ipython",
    "version": 3
   },
   "file_extension": ".py",
   "mimetype": "text/x-python",
   "name": "python",
   "nbconvert_exporter": "python",
   "pygments_lexer": "ipython3",
   "version": "3.12.8"
  }
 },
 "nbformat": 4,
 "nbformat_minor": 5
}
